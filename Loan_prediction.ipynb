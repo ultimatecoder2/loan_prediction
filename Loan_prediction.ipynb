{
 "metadata": {
  "language_info": {
   "codemirror_mode": {
    "name": "ipython",
    "version": 3
   },
   "file_extension": ".py",
   "mimetype": "text/x-python",
   "name": "python",
   "nbconvert_exporter": "python",
   "pygments_lexer": "ipython3",
   "version": "3.9.2"
  },
  "orig_nbformat": 2,
  "kernelspec": {
   "name": "python392jvsc74a57bd0b5843a13e7131a14c3c0e364f0390d6592a995e3082c3f83420ac4385eeb2370",
   "display_name": "Python 3.9.2 64-bit"
  },
  "metadata": {
   "interpreter": {
    "hash": "b5843a13e7131a14c3c0e364f0390d6592a995e3082c3f83420ac4385eeb2370"
   }
  }
 },
 "nbformat": 4,
 "nbformat_minor": 2,
 "cells": [
  {
   "source": [
    "# Problem Statement\n",
    "In the lending industry, investors provide loans to borrowers in exchange for the promise of repayment with interest. If the borrower repays the loan, then the lender profits from the interest. However, if the borrower is unable to repay the loan, then the lender loses money. Therefore, lenders face the problem of predicting the risk of a borrower being unable to repay a loan. Your task is to predict whether a person should be given the loan or not using the publicly available \n",
    "<br/>\n",
    "Link to the dataset:  https://www.kaggle.com/wordsforthewise/lending-club\n"
   ],
   "cell_type": "markdown",
   "metadata": {}
  },
  {
   "cell_type": "code",
   "execution_count": 3,
   "metadata": {},
   "outputs": [],
   "source": [
    "# Import Libraries\n",
    "import pandas as pd\n",
    "import numpy as np\n",
    "import matplotlib.pyplot as plt\n",
    "import sklearn\n",
    "import seaborn as sns\n",
    "from sklearn.model_selection import train_test_split"
   ]
  },
  {
   "source": [
    "# Data preprocessing"
   ],
   "cell_type": "markdown",
   "metadata": {}
  },
  {
   "source": [
    "## Read 1st Dataset"
   ],
   "cell_type": "markdown",
   "metadata": {}
  },
  {
   "cell_type": "code",
   "execution_count": 2,
   "metadata": {},
   "outputs": [
    {
     "output_type": "stream",
     "name": "stderr",
     "text": [
      "C:\\Users\\Asus\\AppData\\Roaming\\Python\\Python39\\site-packages\\IPython\\core\\interactiveshell.py:3165: DtypeWarning: Columns (0,19,49,59,118,129,130,131,134,135,136,139,145,146,147) have mixed types.Specify dtype option on import or set low_memory=False.\n  has_raised = await self.run_ast_nodes(code_ast.body, cell_name,\n"
     ]
    }
   ],
   "source": [
    "dataset1_acc = pd.read_csv('accepted_2007_to_2018Q4.csv')"
   ]
  },
  {
   "source": [
    "dataset1_acc.shape"
   ],
   "cell_type": "code",
   "metadata": {},
   "execution_count": 3,
   "outputs": [
    {
     "output_type": "execute_result",
     "data": {
      "text/plain": [
       "(2260701, 151)"
      ]
     },
     "metadata": {},
     "execution_count": 3
    }
   ]
  },
  {
   "cell_type": "code",
   "execution_count": 4,
   "metadata": {},
   "outputs": [
    {
     "output_type": "execute_result",
     "data": {
      "text/plain": [
       "         id  member_id  loan_amnt  funded_amnt  funded_amnt_inv        term  \\\n",
       "0  68407277        NaN     3600.0       3600.0           3600.0   36 months   \n",
       "1  68355089        NaN    24700.0      24700.0          24700.0   36 months   \n",
       "2  68341763        NaN    20000.0      20000.0          20000.0   60 months   \n",
       "3  66310712        NaN    35000.0      35000.0          35000.0   60 months   \n",
       "4  68476807        NaN    10400.0      10400.0          10400.0   60 months   \n",
       "\n",
       "   int_rate  installment grade sub_grade  ... hardship_payoff_balance_amount  \\\n",
       "0     13.99       123.03     C        C4  ...                            NaN   \n",
       "1     11.99       820.28     C        C1  ...                            NaN   \n",
       "2     10.78       432.66     B        B4  ...                            NaN   \n",
       "3     14.85       829.90     C        C5  ...                            NaN   \n",
       "4     22.45       289.91     F        F1  ...                            NaN   \n",
       "\n",
       "  hardship_last_payment_amount disbursement_method  debt_settlement_flag  \\\n",
       "0                          NaN                Cash                     N   \n",
       "1                          NaN                Cash                     N   \n",
       "2                          NaN                Cash                     N   \n",
       "3                          NaN                Cash                     N   \n",
       "4                          NaN                Cash                     N   \n",
       "\n",
       "  debt_settlement_flag_date settlement_status settlement_date  \\\n",
       "0                       NaN               NaN             NaN   \n",
       "1                       NaN               NaN             NaN   \n",
       "2                       NaN               NaN             NaN   \n",
       "3                       NaN               NaN             NaN   \n",
       "4                       NaN               NaN             NaN   \n",
       "\n",
       "  settlement_amount settlement_percentage settlement_term  \n",
       "0               NaN                   NaN             NaN  \n",
       "1               NaN                   NaN             NaN  \n",
       "2               NaN                   NaN             NaN  \n",
       "3               NaN                   NaN             NaN  \n",
       "4               NaN                   NaN             NaN  \n",
       "\n",
       "[5 rows x 151 columns]"
      ],
      "text/html": "<div>\n<style scoped>\n    .dataframe tbody tr th:only-of-type {\n        vertical-align: middle;\n    }\n\n    .dataframe tbody tr th {\n        vertical-align: top;\n    }\n\n    .dataframe thead th {\n        text-align: right;\n    }\n</style>\n<table border=\"1\" class=\"dataframe\">\n  <thead>\n    <tr style=\"text-align: right;\">\n      <th></th>\n      <th>id</th>\n      <th>member_id</th>\n      <th>loan_amnt</th>\n      <th>funded_amnt</th>\n      <th>funded_amnt_inv</th>\n      <th>term</th>\n      <th>int_rate</th>\n      <th>installment</th>\n      <th>grade</th>\n      <th>sub_grade</th>\n      <th>...</th>\n      <th>hardship_payoff_balance_amount</th>\n      <th>hardship_last_payment_amount</th>\n      <th>disbursement_method</th>\n      <th>debt_settlement_flag</th>\n      <th>debt_settlement_flag_date</th>\n      <th>settlement_status</th>\n      <th>settlement_date</th>\n      <th>settlement_amount</th>\n      <th>settlement_percentage</th>\n      <th>settlement_term</th>\n    </tr>\n  </thead>\n  <tbody>\n    <tr>\n      <th>0</th>\n      <td>68407277</td>\n      <td>NaN</td>\n      <td>3600.0</td>\n      <td>3600.0</td>\n      <td>3600.0</td>\n      <td>36 months</td>\n      <td>13.99</td>\n      <td>123.03</td>\n      <td>C</td>\n      <td>C4</td>\n      <td>...</td>\n      <td>NaN</td>\n      <td>NaN</td>\n      <td>Cash</td>\n      <td>N</td>\n      <td>NaN</td>\n      <td>NaN</td>\n      <td>NaN</td>\n      <td>NaN</td>\n      <td>NaN</td>\n      <td>NaN</td>\n    </tr>\n    <tr>\n      <th>1</th>\n      <td>68355089</td>\n      <td>NaN</td>\n      <td>24700.0</td>\n      <td>24700.0</td>\n      <td>24700.0</td>\n      <td>36 months</td>\n      <td>11.99</td>\n      <td>820.28</td>\n      <td>C</td>\n      <td>C1</td>\n      <td>...</td>\n      <td>NaN</td>\n      <td>NaN</td>\n      <td>Cash</td>\n      <td>N</td>\n      <td>NaN</td>\n      <td>NaN</td>\n      <td>NaN</td>\n      <td>NaN</td>\n      <td>NaN</td>\n      <td>NaN</td>\n    </tr>\n    <tr>\n      <th>2</th>\n      <td>68341763</td>\n      <td>NaN</td>\n      <td>20000.0</td>\n      <td>20000.0</td>\n      <td>20000.0</td>\n      <td>60 months</td>\n      <td>10.78</td>\n      <td>432.66</td>\n      <td>B</td>\n      <td>B4</td>\n      <td>...</td>\n      <td>NaN</td>\n      <td>NaN</td>\n      <td>Cash</td>\n      <td>N</td>\n      <td>NaN</td>\n      <td>NaN</td>\n      <td>NaN</td>\n      <td>NaN</td>\n      <td>NaN</td>\n      <td>NaN</td>\n    </tr>\n    <tr>\n      <th>3</th>\n      <td>66310712</td>\n      <td>NaN</td>\n      <td>35000.0</td>\n      <td>35000.0</td>\n      <td>35000.0</td>\n      <td>60 months</td>\n      <td>14.85</td>\n      <td>829.90</td>\n      <td>C</td>\n      <td>C5</td>\n      <td>...</td>\n      <td>NaN</td>\n      <td>NaN</td>\n      <td>Cash</td>\n      <td>N</td>\n      <td>NaN</td>\n      <td>NaN</td>\n      <td>NaN</td>\n      <td>NaN</td>\n      <td>NaN</td>\n      <td>NaN</td>\n    </tr>\n    <tr>\n      <th>4</th>\n      <td>68476807</td>\n      <td>NaN</td>\n      <td>10400.0</td>\n      <td>10400.0</td>\n      <td>10400.0</td>\n      <td>60 months</td>\n      <td>22.45</td>\n      <td>289.91</td>\n      <td>F</td>\n      <td>F1</td>\n      <td>...</td>\n      <td>NaN</td>\n      <td>NaN</td>\n      <td>Cash</td>\n      <td>N</td>\n      <td>NaN</td>\n      <td>NaN</td>\n      <td>NaN</td>\n      <td>NaN</td>\n      <td>NaN</td>\n      <td>NaN</td>\n    </tr>\n  </tbody>\n</table>\n<p>5 rows × 151 columns</p>\n</div>"
     },
     "metadata": {},
     "execution_count": 4
    }
   ],
   "source": [
    "dataset1_acc.head()"
   ]
  },
  {
   "cell_type": "code",
   "execution_count": 5,
   "metadata": {},
   "outputs": [
    {
     "output_type": "execute_result",
     "data": {
      "text/plain": [
       "['id',\n",
       " 'member_id',\n",
       " 'loan_amnt',\n",
       " 'funded_amnt',\n",
       " 'funded_amnt_inv',\n",
       " 'term',\n",
       " 'int_rate',\n",
       " 'installment',\n",
       " 'grade',\n",
       " 'sub_grade',\n",
       " 'emp_title',\n",
       " 'emp_length',\n",
       " 'home_ownership',\n",
       " 'annual_inc',\n",
       " 'verification_status',\n",
       " 'issue_d',\n",
       " 'loan_status',\n",
       " 'pymnt_plan',\n",
       " 'url',\n",
       " 'desc',\n",
       " 'purpose',\n",
       " 'title',\n",
       " 'zip_code',\n",
       " 'addr_state',\n",
       " 'dti',\n",
       " 'delinq_2yrs',\n",
       " 'earliest_cr_line',\n",
       " 'fico_range_low',\n",
       " 'fico_range_high',\n",
       " 'inq_last_6mths',\n",
       " 'mths_since_last_delinq',\n",
       " 'mths_since_last_record',\n",
       " 'open_acc',\n",
       " 'pub_rec',\n",
       " 'revol_bal',\n",
       " 'revol_util',\n",
       " 'total_acc',\n",
       " 'initial_list_status',\n",
       " 'out_prncp',\n",
       " 'out_prncp_inv',\n",
       " 'total_pymnt',\n",
       " 'total_pymnt_inv',\n",
       " 'total_rec_prncp',\n",
       " 'total_rec_int',\n",
       " 'total_rec_late_fee',\n",
       " 'recoveries',\n",
       " 'collection_recovery_fee',\n",
       " 'last_pymnt_d',\n",
       " 'last_pymnt_amnt',\n",
       " 'next_pymnt_d',\n",
       " 'last_credit_pull_d',\n",
       " 'last_fico_range_high',\n",
       " 'last_fico_range_low',\n",
       " 'collections_12_mths_ex_med',\n",
       " 'mths_since_last_major_derog',\n",
       " 'policy_code',\n",
       " 'application_type',\n",
       " 'annual_inc_joint',\n",
       " 'dti_joint',\n",
       " 'verification_status_joint',\n",
       " 'acc_now_delinq',\n",
       " 'tot_coll_amt',\n",
       " 'tot_cur_bal',\n",
       " 'open_acc_6m',\n",
       " 'open_act_il',\n",
       " 'open_il_12m',\n",
       " 'open_il_24m',\n",
       " 'mths_since_rcnt_il',\n",
       " 'total_bal_il',\n",
       " 'il_util',\n",
       " 'open_rv_12m',\n",
       " 'open_rv_24m',\n",
       " 'max_bal_bc',\n",
       " 'all_util',\n",
       " 'total_rev_hi_lim',\n",
       " 'inq_fi',\n",
       " 'total_cu_tl',\n",
       " 'inq_last_12m',\n",
       " 'acc_open_past_24mths',\n",
       " 'avg_cur_bal',\n",
       " 'bc_open_to_buy',\n",
       " 'bc_util',\n",
       " 'chargeoff_within_12_mths',\n",
       " 'delinq_amnt',\n",
       " 'mo_sin_old_il_acct',\n",
       " 'mo_sin_old_rev_tl_op',\n",
       " 'mo_sin_rcnt_rev_tl_op',\n",
       " 'mo_sin_rcnt_tl',\n",
       " 'mort_acc',\n",
       " 'mths_since_recent_bc',\n",
       " 'mths_since_recent_bc_dlq',\n",
       " 'mths_since_recent_inq',\n",
       " 'mths_since_recent_revol_delinq',\n",
       " 'num_accts_ever_120_pd',\n",
       " 'num_actv_bc_tl',\n",
       " 'num_actv_rev_tl',\n",
       " 'num_bc_sats',\n",
       " 'num_bc_tl',\n",
       " 'num_il_tl',\n",
       " 'num_op_rev_tl',\n",
       " 'num_rev_accts',\n",
       " 'num_rev_tl_bal_gt_0',\n",
       " 'num_sats',\n",
       " 'num_tl_120dpd_2m',\n",
       " 'num_tl_30dpd',\n",
       " 'num_tl_90g_dpd_24m',\n",
       " 'num_tl_op_past_12m',\n",
       " 'pct_tl_nvr_dlq',\n",
       " 'percent_bc_gt_75',\n",
       " 'pub_rec_bankruptcies',\n",
       " 'tax_liens',\n",
       " 'tot_hi_cred_lim',\n",
       " 'total_bal_ex_mort',\n",
       " 'total_bc_limit',\n",
       " 'total_il_high_credit_limit',\n",
       " 'revol_bal_joint',\n",
       " 'sec_app_fico_range_low',\n",
       " 'sec_app_fico_range_high',\n",
       " 'sec_app_earliest_cr_line',\n",
       " 'sec_app_inq_last_6mths',\n",
       " 'sec_app_mort_acc',\n",
       " 'sec_app_open_acc',\n",
       " 'sec_app_revol_util',\n",
       " 'sec_app_open_act_il',\n",
       " 'sec_app_num_rev_accts',\n",
       " 'sec_app_chargeoff_within_12_mths',\n",
       " 'sec_app_collections_12_mths_ex_med',\n",
       " 'sec_app_mths_since_last_major_derog',\n",
       " 'hardship_flag',\n",
       " 'hardship_type',\n",
       " 'hardship_reason',\n",
       " 'hardship_status',\n",
       " 'deferral_term',\n",
       " 'hardship_amount',\n",
       " 'hardship_start_date',\n",
       " 'hardship_end_date',\n",
       " 'payment_plan_start_date',\n",
       " 'hardship_length',\n",
       " 'hardship_dpd',\n",
       " 'hardship_loan_status',\n",
       " 'orig_projected_additional_accrued_interest',\n",
       " 'hardship_payoff_balance_amount',\n",
       " 'hardship_last_payment_amount',\n",
       " 'disbursement_method',\n",
       " 'debt_settlement_flag',\n",
       " 'debt_settlement_flag_date',\n",
       " 'settlement_status',\n",
       " 'settlement_date',\n",
       " 'settlement_amount',\n",
       " 'settlement_percentage',\n",
       " 'settlement_term']"
      ]
     },
     "metadata": {},
     "execution_count": 5
    }
   ],
   "source": [
    "columns1 = dataset1_acc.columns.tolist()\n",
    "columns1"
   ]
  },
  {
   "cell_type": "code",
   "execution_count": 6,
   "metadata": {},
   "outputs": [
    {
     "output_type": "execute_result",
     "data": {
      "text/plain": [
       "array(['Fully Paid', 'Current', 'Charged Off', 'In Grace Period',\n",
       "       'Late (31-120 days)', 'Late (16-30 days)', 'Default', nan,\n",
       "       'Does not meet the credit policy. Status:Fully Paid',\n",
       "       'Does not meet the credit policy. Status:Charged Off'],\n",
       "      dtype=object)"
      ]
     },
     "metadata": {},
     "execution_count": 6
    }
   ],
   "source": [
    "dataset1_acc['loan_status'].unique()"
   ]
  },
  {
   "cell_type": "code",
   "execution_count": 7,
   "metadata": {},
   "outputs": [
    {
     "output_type": "execute_result",
     "data": {
      "text/plain": [
       "   loan_amnt   issue_d               title zip_code addr_state emp_length  \\\n",
       "0     3600.0  Dec-2015  Debt consolidation    190xx         PA  10+ years   \n",
       "1    24700.0  Dec-2015            Business    577xx         SD  10+ years   \n",
       "2    20000.0  Dec-2015                 NaN    605xx         IL  10+ years   \n",
       "3    35000.0  Dec-2015  Debt consolidation    076xx         NJ  10+ years   \n",
       "4    10400.0  Dec-2015      Major purchase    174xx         PA    3 years   \n",
       "\n",
       "   policy_code    dti  fico_range_low  fico_range_high loan_status  \n",
       "0          1.0   5.91           675.0            679.0  Fully Paid  \n",
       "1          1.0  16.06           715.0            719.0  Fully Paid  \n",
       "2          1.0  10.78           695.0            699.0  Fully Paid  \n",
       "3          1.0  17.06           785.0            789.0     Current  \n",
       "4          1.0  25.37           695.0            699.0  Fully Paid  "
      ],
      "text/html": "<div>\n<style scoped>\n    .dataframe tbody tr th:only-of-type {\n        vertical-align: middle;\n    }\n\n    .dataframe tbody tr th {\n        vertical-align: top;\n    }\n\n    .dataframe thead th {\n        text-align: right;\n    }\n</style>\n<table border=\"1\" class=\"dataframe\">\n  <thead>\n    <tr style=\"text-align: right;\">\n      <th></th>\n      <th>loan_amnt</th>\n      <th>issue_d</th>\n      <th>title</th>\n      <th>zip_code</th>\n      <th>addr_state</th>\n      <th>emp_length</th>\n      <th>policy_code</th>\n      <th>dti</th>\n      <th>fico_range_low</th>\n      <th>fico_range_high</th>\n      <th>loan_status</th>\n    </tr>\n  </thead>\n  <tbody>\n    <tr>\n      <th>0</th>\n      <td>3600.0</td>\n      <td>Dec-2015</td>\n      <td>Debt consolidation</td>\n      <td>190xx</td>\n      <td>PA</td>\n      <td>10+ years</td>\n      <td>1.0</td>\n      <td>5.91</td>\n      <td>675.0</td>\n      <td>679.0</td>\n      <td>Fully Paid</td>\n    </tr>\n    <tr>\n      <th>1</th>\n      <td>24700.0</td>\n      <td>Dec-2015</td>\n      <td>Business</td>\n      <td>577xx</td>\n      <td>SD</td>\n      <td>10+ years</td>\n      <td>1.0</td>\n      <td>16.06</td>\n      <td>715.0</td>\n      <td>719.0</td>\n      <td>Fully Paid</td>\n    </tr>\n    <tr>\n      <th>2</th>\n      <td>20000.0</td>\n      <td>Dec-2015</td>\n      <td>NaN</td>\n      <td>605xx</td>\n      <td>IL</td>\n      <td>10+ years</td>\n      <td>1.0</td>\n      <td>10.78</td>\n      <td>695.0</td>\n      <td>699.0</td>\n      <td>Fully Paid</td>\n    </tr>\n    <tr>\n      <th>3</th>\n      <td>35000.0</td>\n      <td>Dec-2015</td>\n      <td>Debt consolidation</td>\n      <td>076xx</td>\n      <td>NJ</td>\n      <td>10+ years</td>\n      <td>1.0</td>\n      <td>17.06</td>\n      <td>785.0</td>\n      <td>789.0</td>\n      <td>Current</td>\n    </tr>\n    <tr>\n      <th>4</th>\n      <td>10400.0</td>\n      <td>Dec-2015</td>\n      <td>Major purchase</td>\n      <td>174xx</td>\n      <td>PA</td>\n      <td>3 years</td>\n      <td>1.0</td>\n      <td>25.37</td>\n      <td>695.0</td>\n      <td>699.0</td>\n      <td>Fully Paid</td>\n    </tr>\n  </tbody>\n</table>\n</div>"
     },
     "metadata": {},
     "execution_count": 7
    }
   ],
   "source": [
    "d1_accepted = dataset1_acc[['loan_amnt', 'issue_d', 'title', 'zip_code', 'addr_state', 'emp_length', 'policy_code', 'dti', 'fico_range_low', 'fico_range_high', 'loan_status']]\n",
    "d1_accepted.head()"
   ]
  },
  {
   "cell_type": "code",
   "execution_count": 8,
   "metadata": {},
   "outputs": [
    {
     "output_type": "stream",
     "name": "stderr",
     "text": [
      "<ipython-input-8-8763e349e9ab>:1: SettingWithCopyWarning: \nA value is trying to be set on a copy of a slice from a DataFrame.\nTry using .loc[row_indexer,col_indexer] = value instead\n\nSee the caveats in the documentation: https://pandas.pydata.org/pandas-docs/stable/user_guide/indexing.html#returning-a-view-versus-a-copy\n  d1_accepted['risk_score'] = (d1_accepted['fico_range_low'] + d1_accepted['fico_range_high'])/2\n"
     ]
    },
    {
     "output_type": "execute_result",
     "data": {
      "text/plain": [
       "   loan_amnt   issue_d               title zip_code addr_state emp_length  \\\n",
       "0     3600.0  Dec-2015  Debt consolidation    190xx         PA  10+ years   \n",
       "1    24700.0  Dec-2015            Business    577xx         SD  10+ years   \n",
       "2    20000.0  Dec-2015                 NaN    605xx         IL  10+ years   \n",
       "3    35000.0  Dec-2015  Debt consolidation    076xx         NJ  10+ years   \n",
       "4    10400.0  Dec-2015      Major purchase    174xx         PA    3 years   \n",
       "\n",
       "   policy_code    dti  fico_range_low  fico_range_high loan_status  risk_score  \n",
       "0          1.0   5.91           675.0            679.0  Fully Paid       677.0  \n",
       "1          1.0  16.06           715.0            719.0  Fully Paid       717.0  \n",
       "2          1.0  10.78           695.0            699.0  Fully Paid       697.0  \n",
       "3          1.0  17.06           785.0            789.0     Current       787.0  \n",
       "4          1.0  25.37           695.0            699.0  Fully Paid       697.0  "
      ],
      "text/html": "<div>\n<style scoped>\n    .dataframe tbody tr th:only-of-type {\n        vertical-align: middle;\n    }\n\n    .dataframe tbody tr th {\n        vertical-align: top;\n    }\n\n    .dataframe thead th {\n        text-align: right;\n    }\n</style>\n<table border=\"1\" class=\"dataframe\">\n  <thead>\n    <tr style=\"text-align: right;\">\n      <th></th>\n      <th>loan_amnt</th>\n      <th>issue_d</th>\n      <th>title</th>\n      <th>zip_code</th>\n      <th>addr_state</th>\n      <th>emp_length</th>\n      <th>policy_code</th>\n      <th>dti</th>\n      <th>fico_range_low</th>\n      <th>fico_range_high</th>\n      <th>loan_status</th>\n      <th>risk_score</th>\n    </tr>\n  </thead>\n  <tbody>\n    <tr>\n      <th>0</th>\n      <td>3600.0</td>\n      <td>Dec-2015</td>\n      <td>Debt consolidation</td>\n      <td>190xx</td>\n      <td>PA</td>\n      <td>10+ years</td>\n      <td>1.0</td>\n      <td>5.91</td>\n      <td>675.0</td>\n      <td>679.0</td>\n      <td>Fully Paid</td>\n      <td>677.0</td>\n    </tr>\n    <tr>\n      <th>1</th>\n      <td>24700.0</td>\n      <td>Dec-2015</td>\n      <td>Business</td>\n      <td>577xx</td>\n      <td>SD</td>\n      <td>10+ years</td>\n      <td>1.0</td>\n      <td>16.06</td>\n      <td>715.0</td>\n      <td>719.0</td>\n      <td>Fully Paid</td>\n      <td>717.0</td>\n    </tr>\n    <tr>\n      <th>2</th>\n      <td>20000.0</td>\n      <td>Dec-2015</td>\n      <td>NaN</td>\n      <td>605xx</td>\n      <td>IL</td>\n      <td>10+ years</td>\n      <td>1.0</td>\n      <td>10.78</td>\n      <td>695.0</td>\n      <td>699.0</td>\n      <td>Fully Paid</td>\n      <td>697.0</td>\n    </tr>\n    <tr>\n      <th>3</th>\n      <td>35000.0</td>\n      <td>Dec-2015</td>\n      <td>Debt consolidation</td>\n      <td>076xx</td>\n      <td>NJ</td>\n      <td>10+ years</td>\n      <td>1.0</td>\n      <td>17.06</td>\n      <td>785.0</td>\n      <td>789.0</td>\n      <td>Current</td>\n      <td>787.0</td>\n    </tr>\n    <tr>\n      <th>4</th>\n      <td>10400.0</td>\n      <td>Dec-2015</td>\n      <td>Major purchase</td>\n      <td>174xx</td>\n      <td>PA</td>\n      <td>3 years</td>\n      <td>1.0</td>\n      <td>25.37</td>\n      <td>695.0</td>\n      <td>699.0</td>\n      <td>Fully Paid</td>\n      <td>697.0</td>\n    </tr>\n  </tbody>\n</table>\n</div>"
     },
     "metadata": {},
     "execution_count": 8
    }
   ],
   "source": [
    "d1_accepted['risk_score'] = (d1_accepted['fico_range_low'] + d1_accepted['fico_range_high'])/2\n",
    "d1_accepted.head()"
   ]
  },
  {
   "cell_type": "code",
   "execution_count": 9,
   "metadata": {},
   "outputs": [
    {
     "output_type": "stream",
     "name": "stderr",
     "text": [
      "C:\\Users\\Asus\\AppData\\Local\\Programs\\Python\\Python39\\lib\\site-packages\\pandas\\core\\frame.py:4308: SettingWithCopyWarning: \nA value is trying to be set on a copy of a slice from a DataFrame\n\nSee the caveats in the documentation: https://pandas.pydata.org/pandas-docs/stable/user_guide/indexing.html#returning-a-view-versus-a-copy\n  return super().drop(\n"
     ]
    },
    {
     "output_type": "execute_result",
     "data": {
      "text/plain": [
       "   loan_amnt   issue_d               title zip_code addr_state emp_length  \\\n",
       "0     3600.0  Dec-2015  Debt consolidation    190xx         PA  10+ years   \n",
       "1    24700.0  Dec-2015            Business    577xx         SD  10+ years   \n",
       "2    20000.0  Dec-2015                 NaN    605xx         IL  10+ years   \n",
       "3    35000.0  Dec-2015  Debt consolidation    076xx         NJ  10+ years   \n",
       "4    10400.0  Dec-2015      Major purchase    174xx         PA    3 years   \n",
       "\n",
       "   policy_code    dti loan_status  risk_score  \n",
       "0          1.0   5.91  Fully Paid       677.0  \n",
       "1          1.0  16.06  Fully Paid       717.0  \n",
       "2          1.0  10.78  Fully Paid       697.0  \n",
       "3          1.0  17.06     Current       787.0  \n",
       "4          1.0  25.37  Fully Paid       697.0  "
      ],
      "text/html": "<div>\n<style scoped>\n    .dataframe tbody tr th:only-of-type {\n        vertical-align: middle;\n    }\n\n    .dataframe tbody tr th {\n        vertical-align: top;\n    }\n\n    .dataframe thead th {\n        text-align: right;\n    }\n</style>\n<table border=\"1\" class=\"dataframe\">\n  <thead>\n    <tr style=\"text-align: right;\">\n      <th></th>\n      <th>loan_amnt</th>\n      <th>issue_d</th>\n      <th>title</th>\n      <th>zip_code</th>\n      <th>addr_state</th>\n      <th>emp_length</th>\n      <th>policy_code</th>\n      <th>dti</th>\n      <th>loan_status</th>\n      <th>risk_score</th>\n    </tr>\n  </thead>\n  <tbody>\n    <tr>\n      <th>0</th>\n      <td>3600.0</td>\n      <td>Dec-2015</td>\n      <td>Debt consolidation</td>\n      <td>190xx</td>\n      <td>PA</td>\n      <td>10+ years</td>\n      <td>1.0</td>\n      <td>5.91</td>\n      <td>Fully Paid</td>\n      <td>677.0</td>\n    </tr>\n    <tr>\n      <th>1</th>\n      <td>24700.0</td>\n      <td>Dec-2015</td>\n      <td>Business</td>\n      <td>577xx</td>\n      <td>SD</td>\n      <td>10+ years</td>\n      <td>1.0</td>\n      <td>16.06</td>\n      <td>Fully Paid</td>\n      <td>717.0</td>\n    </tr>\n    <tr>\n      <th>2</th>\n      <td>20000.0</td>\n      <td>Dec-2015</td>\n      <td>NaN</td>\n      <td>605xx</td>\n      <td>IL</td>\n      <td>10+ years</td>\n      <td>1.0</td>\n      <td>10.78</td>\n      <td>Fully Paid</td>\n      <td>697.0</td>\n    </tr>\n    <tr>\n      <th>3</th>\n      <td>35000.0</td>\n      <td>Dec-2015</td>\n      <td>Debt consolidation</td>\n      <td>076xx</td>\n      <td>NJ</td>\n      <td>10+ years</td>\n      <td>1.0</td>\n      <td>17.06</td>\n      <td>Current</td>\n      <td>787.0</td>\n    </tr>\n    <tr>\n      <th>4</th>\n      <td>10400.0</td>\n      <td>Dec-2015</td>\n      <td>Major purchase</td>\n      <td>174xx</td>\n      <td>PA</td>\n      <td>3 years</td>\n      <td>1.0</td>\n      <td>25.37</td>\n      <td>Fully Paid</td>\n      <td>697.0</td>\n    </tr>\n  </tbody>\n</table>\n</div>"
     },
     "metadata": {},
     "execution_count": 9
    }
   ],
   "source": [
    "d1_accepted.drop(['fico_range_low', 'fico_range_high'], axis=1, inplace=True)\n",
    "d1_accepted.head()"
   ]
  },
  {
   "cell_type": "code",
   "execution_count": 10,
   "metadata": {},
   "outputs": [
    {
     "output_type": "execute_result",
     "data": {
      "text/plain": [
       "loan_amnt          33\n",
       "issue_d            33\n",
       "title           23358\n",
       "zip_code           34\n",
       "addr_state         33\n",
       "emp_length     146940\n",
       "policy_code        33\n",
       "dti              1744\n",
       "loan_status        33\n",
       "risk_score         33\n",
       "dtype: int64"
      ]
     },
     "metadata": {},
     "execution_count": 10
    }
   ],
   "source": [
    "d1_accepted.isnull().sum()"
   ]
  },
  {
   "cell_type": "code",
   "execution_count": 11,
   "metadata": {},
   "outputs": [
    {
     "output_type": "stream",
     "name": "stderr",
     "text": [
      "C:\\Users\\Asus\\AppData\\Local\\Programs\\Python\\Python39\\lib\\site-packages\\pandas\\core\\series.py:4463: SettingWithCopyWarning: \nA value is trying to be set on a copy of a slice from a DataFrame\n\nSee the caveats in the documentation: https://pandas.pydata.org/pandas-docs/stable/user_guide/indexing.html#returning-a-view-versus-a-copy\n  return super().fillna(\n"
     ]
    }
   ],
   "source": [
    "d1_accepted['emp_length'].fillna((0), inplace=True)"
   ]
  },
  {
   "cell_type": "code",
   "execution_count": 12,
   "metadata": {},
   "outputs": [
    {
     "output_type": "stream",
     "name": "stderr",
     "text": [
      "<ipython-input-12-d6331faa3eb1>:1: SettingWithCopyWarning: \nA value is trying to be set on a copy of a slice from a DataFrame\n\nSee the caveats in the documentation: https://pandas.pydata.org/pandas-docs/stable/user_guide/indexing.html#returning-a-view-versus-a-copy\n  d1_accepted.dropna(inplace=True)\n"
     ]
    }
   ],
   "source": [
    "d1_accepted.dropna(inplace=True)"
   ]
  },
  {
   "cell_type": "code",
   "execution_count": 13,
   "metadata": {},
   "outputs": [],
   "source": [
    "patrn = 'Charged Off'"
   ]
  },
  {
   "cell_type": "code",
   "execution_count": 14,
   "metadata": {},
   "outputs": [],
   "source": [
    "Loan_Status=[]\n",
    "for val in d1_accepted['loan_status']:\n",
    "    if patrn in val:\n",
    "        Loan_Status.append('N')\n",
    "    else:\n",
    "        Loan_Status.append('Y')"
   ]
  },
  {
   "cell_type": "code",
   "execution_count": 15,
   "metadata": {},
   "outputs": [
    {
     "output_type": "stream",
     "name": "stderr",
     "text": [
      "C:\\Users\\Asus\\AppData\\Local\\Programs\\Python\\Python39\\lib\\site-packages\\pandas\\core\\frame.py:4308: SettingWithCopyWarning: \nA value is trying to be set on a copy of a slice from a DataFrame\n\nSee the caveats in the documentation: https://pandas.pydata.org/pandas-docs/stable/user_guide/indexing.html#returning-a-view-versus-a-copy\n  return super().drop(\n"
     ]
    }
   ],
   "source": [
    "d1_accepted.drop(['loan_status'], axis=1, inplace=True)"
   ]
  },
  {
   "cell_type": "code",
   "execution_count": 16,
   "metadata": {},
   "outputs": [
    {
     "output_type": "stream",
     "name": "stderr",
     "text": [
      "<ipython-input-16-00b7b0341caa>:1: SettingWithCopyWarning: \nA value is trying to be set on a copy of a slice from a DataFrame.\nTry using .loc[row_indexer,col_indexer] = value instead\n\nSee the caveats in the documentation: https://pandas.pydata.org/pandas-docs/stable/user_guide/indexing.html#returning-a-view-versus-a-copy\n  d1_accepted['loan_status'] = Loan_Status\n"
     ]
    }
   ],
   "source": [
    "d1_accepted['loan_status'] = Loan_Status"
   ]
  },
  {
   "cell_type": "code",
   "execution_count": 17,
   "metadata": {},
   "outputs": [
    {
     "output_type": "execute_result",
     "data": {
      "text/plain": [
       "         loan_amnt   issue_d                    title zip_code addr_state  \\\n",
       "0           3600.0  Dec-2015       Debt consolidation    190xx         PA   \n",
       "1          24700.0  Dec-2015                 Business    577xx         SD   \n",
       "3          35000.0  Dec-2015       Debt consolidation    076xx         NJ   \n",
       "4          10400.0  Dec-2015           Major purchase    174xx         PA   \n",
       "5          11950.0  Dec-2015       Debt consolidation    300xx         GA   \n",
       "...            ...       ...                      ...      ...        ...   \n",
       "2260692    16000.0  Oct-2016         Medical expenses    284xx         NC   \n",
       "2260693    24000.0  Oct-2016  Credit card refinancing    967xx         HI   \n",
       "2260694    24000.0  Oct-2016         Home improvement    356xx         AL   \n",
       "2260695    24000.0  Oct-2016       Debt consolidation    840xx         UT   \n",
       "2260697    24000.0  Oct-2016       Debt consolidation    334xx         FL   \n",
       "\n",
       "        emp_length  policy_code    dti  risk_score loan_status  \n",
       "0        10+ years          1.0   5.91       677.0           Y  \n",
       "1        10+ years          1.0  16.06       717.0           Y  \n",
       "3        10+ years          1.0  17.06       787.0           Y  \n",
       "4          3 years          1.0  25.37       697.0           Y  \n",
       "5          4 years          1.0  10.20       692.0           Y  \n",
       "...            ...          ...    ...         ...         ...  \n",
       "2260692  10+ years          1.0  12.25       667.0           Y  \n",
       "2260693    4 years          1.0  10.98       727.0           Y  \n",
       "2260694    7 years          1.0  19.61       667.0           Y  \n",
       "2260695  10+ years          1.0  34.94       697.0           Y  \n",
       "2260697    6 years          1.0  18.30       662.0           N  \n",
       "\n",
       "[2235636 rows x 10 columns]"
      ],
      "text/html": "<div>\n<style scoped>\n    .dataframe tbody tr th:only-of-type {\n        vertical-align: middle;\n    }\n\n    .dataframe tbody tr th {\n        vertical-align: top;\n    }\n\n    .dataframe thead th {\n        text-align: right;\n    }\n</style>\n<table border=\"1\" class=\"dataframe\">\n  <thead>\n    <tr style=\"text-align: right;\">\n      <th></th>\n      <th>loan_amnt</th>\n      <th>issue_d</th>\n      <th>title</th>\n      <th>zip_code</th>\n      <th>addr_state</th>\n      <th>emp_length</th>\n      <th>policy_code</th>\n      <th>dti</th>\n      <th>risk_score</th>\n      <th>loan_status</th>\n    </tr>\n  </thead>\n  <tbody>\n    <tr>\n      <th>0</th>\n      <td>3600.0</td>\n      <td>Dec-2015</td>\n      <td>Debt consolidation</td>\n      <td>190xx</td>\n      <td>PA</td>\n      <td>10+ years</td>\n      <td>1.0</td>\n      <td>5.91</td>\n      <td>677.0</td>\n      <td>Y</td>\n    </tr>\n    <tr>\n      <th>1</th>\n      <td>24700.0</td>\n      <td>Dec-2015</td>\n      <td>Business</td>\n      <td>577xx</td>\n      <td>SD</td>\n      <td>10+ years</td>\n      <td>1.0</td>\n      <td>16.06</td>\n      <td>717.0</td>\n      <td>Y</td>\n    </tr>\n    <tr>\n      <th>3</th>\n      <td>35000.0</td>\n      <td>Dec-2015</td>\n      <td>Debt consolidation</td>\n      <td>076xx</td>\n      <td>NJ</td>\n      <td>10+ years</td>\n      <td>1.0</td>\n      <td>17.06</td>\n      <td>787.0</td>\n      <td>Y</td>\n    </tr>\n    <tr>\n      <th>4</th>\n      <td>10400.0</td>\n      <td>Dec-2015</td>\n      <td>Major purchase</td>\n      <td>174xx</td>\n      <td>PA</td>\n      <td>3 years</td>\n      <td>1.0</td>\n      <td>25.37</td>\n      <td>697.0</td>\n      <td>Y</td>\n    </tr>\n    <tr>\n      <th>5</th>\n      <td>11950.0</td>\n      <td>Dec-2015</td>\n      <td>Debt consolidation</td>\n      <td>300xx</td>\n      <td>GA</td>\n      <td>4 years</td>\n      <td>1.0</td>\n      <td>10.20</td>\n      <td>692.0</td>\n      <td>Y</td>\n    </tr>\n    <tr>\n      <th>...</th>\n      <td>...</td>\n      <td>...</td>\n      <td>...</td>\n      <td>...</td>\n      <td>...</td>\n      <td>...</td>\n      <td>...</td>\n      <td>...</td>\n      <td>...</td>\n      <td>...</td>\n    </tr>\n    <tr>\n      <th>2260692</th>\n      <td>16000.0</td>\n      <td>Oct-2016</td>\n      <td>Medical expenses</td>\n      <td>284xx</td>\n      <td>NC</td>\n      <td>10+ years</td>\n      <td>1.0</td>\n      <td>12.25</td>\n      <td>667.0</td>\n      <td>Y</td>\n    </tr>\n    <tr>\n      <th>2260693</th>\n      <td>24000.0</td>\n      <td>Oct-2016</td>\n      <td>Credit card refinancing</td>\n      <td>967xx</td>\n      <td>HI</td>\n      <td>4 years</td>\n      <td>1.0</td>\n      <td>10.98</td>\n      <td>727.0</td>\n      <td>Y</td>\n    </tr>\n    <tr>\n      <th>2260694</th>\n      <td>24000.0</td>\n      <td>Oct-2016</td>\n      <td>Home improvement</td>\n      <td>356xx</td>\n      <td>AL</td>\n      <td>7 years</td>\n      <td>1.0</td>\n      <td>19.61</td>\n      <td>667.0</td>\n      <td>Y</td>\n    </tr>\n    <tr>\n      <th>2260695</th>\n      <td>24000.0</td>\n      <td>Oct-2016</td>\n      <td>Debt consolidation</td>\n      <td>840xx</td>\n      <td>UT</td>\n      <td>10+ years</td>\n      <td>1.0</td>\n      <td>34.94</td>\n      <td>697.0</td>\n      <td>Y</td>\n    </tr>\n    <tr>\n      <th>2260697</th>\n      <td>24000.0</td>\n      <td>Oct-2016</td>\n      <td>Debt consolidation</td>\n      <td>334xx</td>\n      <td>FL</td>\n      <td>6 years</td>\n      <td>1.0</td>\n      <td>18.30</td>\n      <td>662.0</td>\n      <td>N</td>\n    </tr>\n  </tbody>\n</table>\n<p>2235636 rows × 10 columns</p>\n</div>"
     },
     "metadata": {},
     "execution_count": 17
    }
   ],
   "source": [
    "d1_accepted"
   ]
  },
  {
   "cell_type": "code",
   "execution_count": 21,
   "metadata": {},
   "outputs": [],
   "source": [
    "d1_accepted = d1_accepted.sample(frac =.5)"
   ]
  },
  {
   "cell_type": "code",
   "execution_count": 22,
   "metadata": {},
   "outputs": [
    {
     "output_type": "execute_result",
     "data": {
      "text/plain": [
       "         loan_amnt   issue_d                    title zip_code addr_state  \\\n",
       "1211762    16775.0  Aug-2014       Debt consolidation    473xx         IN   \n",
       "1487372    20000.0  Jun-2018  Credit card refinancing    972xx         OR   \n",
       "1111707    28000.0  Jan-2016  Credit card refinancing    450xx         OH   \n",
       "213395     10950.0  Jul-2015       Debt consolidation    928xx         CA   \n",
       "1633375     7000.0  Jan-2011        Allison's project    232xx         VA   \n",
       "...            ...       ...                      ...      ...        ...   \n",
       "1715588     8000.0  Feb-2017           Major purchase    453xx         OH   \n",
       "1866482    13000.0  Mar-2013   My debt consolidation     432xx         OH   \n",
       "1731105    12000.0  Jan-2017  Credit card refinancing    604xx         IL   \n",
       "1563346     6025.0  May-2018                    Other    018xx         MA   \n",
       "887208      6250.0  Jun-2017       Debt consolidation    212xx         MD   \n",
       "\n",
       "        emp_length  policy_code    dti  risk_score loan_status  \n",
       "1211762    7 years          1.0  13.94       692.0           Y  \n",
       "1487372    8 years          1.0  12.06       682.0           Y  \n",
       "1111707  10+ years          1.0  26.17       682.0           N  \n",
       "213395     8 years          1.0  21.08       662.0           Y  \n",
       "1633375    4 years          1.0   7.26       762.0           Y  \n",
       "...            ...          ...    ...         ...         ...  \n",
       "1715588    5 years          1.0  26.52       782.0           N  \n",
       "1866482    2 years          1.0   9.38       692.0           Y  \n",
       "1731105    8 years          1.0  25.12       667.0           Y  \n",
       "1563346    2 years          1.0  14.03       672.0           Y  \n",
       "887208           0          1.0   8.74       662.0           Y  \n",
       "\n",
       "[1117818 rows x 10 columns]"
      ],
      "text/html": "<div>\n<style scoped>\n    .dataframe tbody tr th:only-of-type {\n        vertical-align: middle;\n    }\n\n    .dataframe tbody tr th {\n        vertical-align: top;\n    }\n\n    .dataframe thead th {\n        text-align: right;\n    }\n</style>\n<table border=\"1\" class=\"dataframe\">\n  <thead>\n    <tr style=\"text-align: right;\">\n      <th></th>\n      <th>loan_amnt</th>\n      <th>issue_d</th>\n      <th>title</th>\n      <th>zip_code</th>\n      <th>addr_state</th>\n      <th>emp_length</th>\n      <th>policy_code</th>\n      <th>dti</th>\n      <th>risk_score</th>\n      <th>loan_status</th>\n    </tr>\n  </thead>\n  <tbody>\n    <tr>\n      <th>1211762</th>\n      <td>16775.0</td>\n      <td>Aug-2014</td>\n      <td>Debt consolidation</td>\n      <td>473xx</td>\n      <td>IN</td>\n      <td>7 years</td>\n      <td>1.0</td>\n      <td>13.94</td>\n      <td>692.0</td>\n      <td>Y</td>\n    </tr>\n    <tr>\n      <th>1487372</th>\n      <td>20000.0</td>\n      <td>Jun-2018</td>\n      <td>Credit card refinancing</td>\n      <td>972xx</td>\n      <td>OR</td>\n      <td>8 years</td>\n      <td>1.0</td>\n      <td>12.06</td>\n      <td>682.0</td>\n      <td>Y</td>\n    </tr>\n    <tr>\n      <th>1111707</th>\n      <td>28000.0</td>\n      <td>Jan-2016</td>\n      <td>Credit card refinancing</td>\n      <td>450xx</td>\n      <td>OH</td>\n      <td>10+ years</td>\n      <td>1.0</td>\n      <td>26.17</td>\n      <td>682.0</td>\n      <td>N</td>\n    </tr>\n    <tr>\n      <th>213395</th>\n      <td>10950.0</td>\n      <td>Jul-2015</td>\n      <td>Debt consolidation</td>\n      <td>928xx</td>\n      <td>CA</td>\n      <td>8 years</td>\n      <td>1.0</td>\n      <td>21.08</td>\n      <td>662.0</td>\n      <td>Y</td>\n    </tr>\n    <tr>\n      <th>1633375</th>\n      <td>7000.0</td>\n      <td>Jan-2011</td>\n      <td>Allison's project</td>\n      <td>232xx</td>\n      <td>VA</td>\n      <td>4 years</td>\n      <td>1.0</td>\n      <td>7.26</td>\n      <td>762.0</td>\n      <td>Y</td>\n    </tr>\n    <tr>\n      <th>...</th>\n      <td>...</td>\n      <td>...</td>\n      <td>...</td>\n      <td>...</td>\n      <td>...</td>\n      <td>...</td>\n      <td>...</td>\n      <td>...</td>\n      <td>...</td>\n      <td>...</td>\n    </tr>\n    <tr>\n      <th>1715588</th>\n      <td>8000.0</td>\n      <td>Feb-2017</td>\n      <td>Major purchase</td>\n      <td>453xx</td>\n      <td>OH</td>\n      <td>5 years</td>\n      <td>1.0</td>\n      <td>26.52</td>\n      <td>782.0</td>\n      <td>N</td>\n    </tr>\n    <tr>\n      <th>1866482</th>\n      <td>13000.0</td>\n      <td>Mar-2013</td>\n      <td>My debt consolidation</td>\n      <td>432xx</td>\n      <td>OH</td>\n      <td>2 years</td>\n      <td>1.0</td>\n      <td>9.38</td>\n      <td>692.0</td>\n      <td>Y</td>\n    </tr>\n    <tr>\n      <th>1731105</th>\n      <td>12000.0</td>\n      <td>Jan-2017</td>\n      <td>Credit card refinancing</td>\n      <td>604xx</td>\n      <td>IL</td>\n      <td>8 years</td>\n      <td>1.0</td>\n      <td>25.12</td>\n      <td>667.0</td>\n      <td>Y</td>\n    </tr>\n    <tr>\n      <th>1563346</th>\n      <td>6025.0</td>\n      <td>May-2018</td>\n      <td>Other</td>\n      <td>018xx</td>\n      <td>MA</td>\n      <td>2 years</td>\n      <td>1.0</td>\n      <td>14.03</td>\n      <td>672.0</td>\n      <td>Y</td>\n    </tr>\n    <tr>\n      <th>887208</th>\n      <td>6250.0</td>\n      <td>Jun-2017</td>\n      <td>Debt consolidation</td>\n      <td>212xx</td>\n      <td>MD</td>\n      <td>0</td>\n      <td>1.0</td>\n      <td>8.74</td>\n      <td>662.0</td>\n      <td>Y</td>\n    </tr>\n  </tbody>\n</table>\n<p>1117818 rows × 10 columns</p>\n</div>"
     },
     "metadata": {},
     "execution_count": 22
    }
   ],
   "source": [
    "d1_accepted"
   ]
  },
  {
   "source": [
    "## Read 2nd Dataset"
   ],
   "cell_type": "markdown",
   "metadata": {}
  },
  {
   "cell_type": "code",
   "execution_count": 23,
   "metadata": {},
   "outputs": [],
   "source": [
    "dataset2_rej = pd.read_csv('rejected_2007_to_2018Q4.csv')"
   ]
  },
  {
   "cell_type": "code",
   "execution_count": 24,
   "metadata": {},
   "outputs": [
    {
     "output_type": "execute_result",
     "data": {
      "text/plain": [
       "   Amount Requested Application Date                        Loan Title  \\\n",
       "0            1000.0       2007-05-26  Wedding Covered but No Honeymoon   \n",
       "1            1000.0       2007-05-26                Consolidating Debt   \n",
       "2           11000.0       2007-05-27       Want to consolidate my debt   \n",
       "3            6000.0       2007-05-27                           waksman   \n",
       "4            1500.0       2007-05-27                            mdrigo   \n",
       "\n",
       "   Risk_Score Debt-To-Income Ratio Zip Code State Employment Length  \\\n",
       "0       693.0                  10%    481xx    NM           4 years   \n",
       "1       703.0                  10%    010xx    MA          < 1 year   \n",
       "2       715.0                  10%    212xx    MD            1 year   \n",
       "3       698.0               38.64%    017xx    MA          < 1 year   \n",
       "4       509.0                9.43%    209xx    MD          < 1 year   \n",
       "\n",
       "   Policy Code  \n",
       "0          0.0  \n",
       "1          0.0  \n",
       "2          0.0  \n",
       "3          0.0  \n",
       "4          0.0  "
      ],
      "text/html": "<div>\n<style scoped>\n    .dataframe tbody tr th:only-of-type {\n        vertical-align: middle;\n    }\n\n    .dataframe tbody tr th {\n        vertical-align: top;\n    }\n\n    .dataframe thead th {\n        text-align: right;\n    }\n</style>\n<table border=\"1\" class=\"dataframe\">\n  <thead>\n    <tr style=\"text-align: right;\">\n      <th></th>\n      <th>Amount Requested</th>\n      <th>Application Date</th>\n      <th>Loan Title</th>\n      <th>Risk_Score</th>\n      <th>Debt-To-Income Ratio</th>\n      <th>Zip Code</th>\n      <th>State</th>\n      <th>Employment Length</th>\n      <th>Policy Code</th>\n    </tr>\n  </thead>\n  <tbody>\n    <tr>\n      <th>0</th>\n      <td>1000.0</td>\n      <td>2007-05-26</td>\n      <td>Wedding Covered but No Honeymoon</td>\n      <td>693.0</td>\n      <td>10%</td>\n      <td>481xx</td>\n      <td>NM</td>\n      <td>4 years</td>\n      <td>0.0</td>\n    </tr>\n    <tr>\n      <th>1</th>\n      <td>1000.0</td>\n      <td>2007-05-26</td>\n      <td>Consolidating Debt</td>\n      <td>703.0</td>\n      <td>10%</td>\n      <td>010xx</td>\n      <td>MA</td>\n      <td>&lt; 1 year</td>\n      <td>0.0</td>\n    </tr>\n    <tr>\n      <th>2</th>\n      <td>11000.0</td>\n      <td>2007-05-27</td>\n      <td>Want to consolidate my debt</td>\n      <td>715.0</td>\n      <td>10%</td>\n      <td>212xx</td>\n      <td>MD</td>\n      <td>1 year</td>\n      <td>0.0</td>\n    </tr>\n    <tr>\n      <th>3</th>\n      <td>6000.0</td>\n      <td>2007-05-27</td>\n      <td>waksman</td>\n      <td>698.0</td>\n      <td>38.64%</td>\n      <td>017xx</td>\n      <td>MA</td>\n      <td>&lt; 1 year</td>\n      <td>0.0</td>\n    </tr>\n    <tr>\n      <th>4</th>\n      <td>1500.0</td>\n      <td>2007-05-27</td>\n      <td>mdrigo</td>\n      <td>509.0</td>\n      <td>9.43%</td>\n      <td>209xx</td>\n      <td>MD</td>\n      <td>&lt; 1 year</td>\n      <td>0.0</td>\n    </tr>\n  </tbody>\n</table>\n</div>"
     },
     "metadata": {},
     "execution_count": 24
    }
   ],
   "source": [
    "dataset2_rej.head()"
   ]
  },
  {
   "cell_type": "code",
   "execution_count": 25,
   "metadata": {},
   "outputs": [
    {
     "output_type": "execute_result",
     "data": {
      "text/plain": [
       "(27648741, 9)"
      ]
     },
     "metadata": {},
     "execution_count": 25
    }
   ],
   "source": [
    "dataset2_rej.shape"
   ]
  },
  {
   "cell_type": "code",
   "execution_count": 26,
   "metadata": {},
   "outputs": [
    {
     "output_type": "execute_result",
     "data": {
      "text/plain": [
       "['Amount Requested',\n",
       " 'Application Date',\n",
       " 'Loan Title',\n",
       " 'Risk_Score',\n",
       " 'Debt-To-Income Ratio',\n",
       " 'Zip Code',\n",
       " 'State',\n",
       " 'Employment Length',\n",
       " 'Policy Code']"
      ]
     },
     "metadata": {},
     "execution_count": 26
    }
   ],
   "source": [
    "columns2 = dataset2_rej.columns.tolist()\n",
    "columns2"
   ]
  },
  {
   "cell_type": "code",
   "execution_count": 27,
   "metadata": {},
   "outputs": [],
   "source": [
    "col_names = {'Amount Requested':'loan_amnt','Application Date':'issue_d', 'Loan Title':'title', 'Zip Code':'zip_code', 'State':'addr_state', 'Employment Length':'emp_length', 'Policy Code':'policy_code', 'Debt-To-Income Ratio':'dti' ,'Risk_Score':'risk_score'}"
   ]
  },
  {
   "cell_type": "code",
   "execution_count": 28,
   "metadata": {},
   "outputs": [
    {
     "output_type": "execute_result",
     "data": {
      "text/plain": [
       "   loan_amnt     issue_d                             title  risk_score  \\\n",
       "0     1000.0  2007-05-26  Wedding Covered but No Honeymoon       693.0   \n",
       "1     1000.0  2007-05-26                Consolidating Debt       703.0   \n",
       "2    11000.0  2007-05-27       Want to consolidate my debt       715.0   \n",
       "3     6000.0  2007-05-27                           waksman       698.0   \n",
       "4     1500.0  2007-05-27                            mdrigo       509.0   \n",
       "\n",
       "      dti zip_code addr_state emp_length  policy_code  \n",
       "0     10%    481xx         NM    4 years          0.0  \n",
       "1     10%    010xx         MA   < 1 year          0.0  \n",
       "2     10%    212xx         MD     1 year          0.0  \n",
       "3  38.64%    017xx         MA   < 1 year          0.0  \n",
       "4   9.43%    209xx         MD   < 1 year          0.0  "
      ],
      "text/html": "<div>\n<style scoped>\n    .dataframe tbody tr th:only-of-type {\n        vertical-align: middle;\n    }\n\n    .dataframe tbody tr th {\n        vertical-align: top;\n    }\n\n    .dataframe thead th {\n        text-align: right;\n    }\n</style>\n<table border=\"1\" class=\"dataframe\">\n  <thead>\n    <tr style=\"text-align: right;\">\n      <th></th>\n      <th>loan_amnt</th>\n      <th>issue_d</th>\n      <th>title</th>\n      <th>risk_score</th>\n      <th>dti</th>\n      <th>zip_code</th>\n      <th>addr_state</th>\n      <th>emp_length</th>\n      <th>policy_code</th>\n    </tr>\n  </thead>\n  <tbody>\n    <tr>\n      <th>0</th>\n      <td>1000.0</td>\n      <td>2007-05-26</td>\n      <td>Wedding Covered but No Honeymoon</td>\n      <td>693.0</td>\n      <td>10%</td>\n      <td>481xx</td>\n      <td>NM</td>\n      <td>4 years</td>\n      <td>0.0</td>\n    </tr>\n    <tr>\n      <th>1</th>\n      <td>1000.0</td>\n      <td>2007-05-26</td>\n      <td>Consolidating Debt</td>\n      <td>703.0</td>\n      <td>10%</td>\n      <td>010xx</td>\n      <td>MA</td>\n      <td>&lt; 1 year</td>\n      <td>0.0</td>\n    </tr>\n    <tr>\n      <th>2</th>\n      <td>11000.0</td>\n      <td>2007-05-27</td>\n      <td>Want to consolidate my debt</td>\n      <td>715.0</td>\n      <td>10%</td>\n      <td>212xx</td>\n      <td>MD</td>\n      <td>1 year</td>\n      <td>0.0</td>\n    </tr>\n    <tr>\n      <th>3</th>\n      <td>6000.0</td>\n      <td>2007-05-27</td>\n      <td>waksman</td>\n      <td>698.0</td>\n      <td>38.64%</td>\n      <td>017xx</td>\n      <td>MA</td>\n      <td>&lt; 1 year</td>\n      <td>0.0</td>\n    </tr>\n    <tr>\n      <th>4</th>\n      <td>1500.0</td>\n      <td>2007-05-27</td>\n      <td>mdrigo</td>\n      <td>509.0</td>\n      <td>9.43%</td>\n      <td>209xx</td>\n      <td>MD</td>\n      <td>&lt; 1 year</td>\n      <td>0.0</td>\n    </tr>\n  </tbody>\n</table>\n</div>"
     },
     "metadata": {},
     "execution_count": 28
    }
   ],
   "source": [
    "d2_rejected = dataset2_rej.rename(columns=col_names, inplace=False)\n",
    "d2_rejected.head()"
   ]
  },
  {
   "cell_type": "code",
   "execution_count": 29,
   "metadata": {},
   "outputs": [],
   "source": [
    "d2_rejected['dti']=d2_rejected['dti'].apply(lambda dti:dti[:-1])"
   ]
  },
  {
   "cell_type": "code",
   "execution_count": 30,
   "metadata": {},
   "outputs": [
    {
     "output_type": "execute_result",
     "data": {
      "text/plain": [
       "loan_amnt             0\n",
       "issue_d               0\n",
       "title              1303\n",
       "risk_score     18497630\n",
       "dti                   0\n",
       "zip_code            293\n",
       "addr_state           22\n",
       "emp_length       951355\n",
       "policy_code         918\n",
       "dtype: int64"
      ]
     },
     "metadata": {},
     "execution_count": 30
    }
   ],
   "source": [
    "d2_rejected.isnull().sum()"
   ]
  },
  {
   "cell_type": "code",
   "execution_count": 31,
   "metadata": {},
   "outputs": [],
   "source": [
    "d2_rejected['risk_score'].fillna((d2_rejected['risk_score'].mean()), inplace=True)"
   ]
  },
  {
   "cell_type": "code",
   "execution_count": 32,
   "metadata": {},
   "outputs": [],
   "source": [
    "d2_rejected['emp_length'].fillna((0), inplace=True)"
   ]
  },
  {
   "cell_type": "code",
   "execution_count": 33,
   "metadata": {},
   "outputs": [
    {
     "output_type": "execute_result",
     "data": {
      "text/plain": [
       "loan_amnt         0\n",
       "issue_d           0\n",
       "title          1303\n",
       "risk_score        0\n",
       "dti               0\n",
       "zip_code        293\n",
       "addr_state       22\n",
       "emp_length        0\n",
       "policy_code     918\n",
       "dtype: int64"
      ]
     },
     "metadata": {},
     "execution_count": 33
    }
   ],
   "source": [
    "d2_rejected.isnull().sum()"
   ]
  },
  {
   "cell_type": "code",
   "execution_count": 34,
   "metadata": {},
   "outputs": [],
   "source": [
    "d2_rejected.dropna(inplace=True)"
   ]
  },
  {
   "cell_type": "code",
   "execution_count": 35,
   "metadata": {},
   "outputs": [],
   "source": [
    "d2_rejected['loan_status'] = 'N'"
   ]
  },
  {
   "cell_type": "code",
   "execution_count": 36,
   "metadata": {},
   "outputs": [
    {
     "output_type": "execute_result",
     "data": {
      "text/plain": [
       "(27646227, 10)"
      ]
     },
     "metadata": {},
     "execution_count": 36
    }
   ],
   "source": [
    "d2_rejected.shape"
   ]
  },
  {
   "cell_type": "code",
   "execution_count": 37,
   "metadata": {},
   "outputs": [],
   "source": [
    "d2_rejected = d2_rejected.sample(frac = 0.05)"
   ]
  },
  {
   "cell_type": "code",
   "execution_count": 38,
   "metadata": {},
   "outputs": [
    {
     "output_type": "execute_result",
     "data": {
      "text/plain": [
       "          loan_amnt     issue_d                  title  risk_score    dti  \\\n",
       "22308526    30000.0  2015-04-06     debt_consolidation   628.17209  31.17   \n",
       "5727821      2000.0  2018-08-17  Moving and relocation   628.17209  13.28   \n",
       "23188969    10000.0  2015-07-28                  other   628.17209     27   \n",
       "20699641     5000.0  2017-11-14            Home buying   684.00000     12   \n",
       "27521677    10000.0  2016-12-21     Debt consolidation   552.00000  71.41   \n",
       "...             ...         ...                    ...         ...    ...   \n",
       "14387031     3000.0  2016-03-13                    car   628.17209     -1   \n",
       "10524923    10000.0  2018-02-09     Debt consolidation   628.17209  28.64   \n",
       "21438591     8000.0  2017-12-15                  Other   744.00000   3.38   \n",
       "3583573     18000.0  2017-02-06     Debt consolidation   613.00000  64.96   \n",
       "8288488     30000.0  2014-05-15     debt_consolidation   676.00000  25.68   \n",
       "\n",
       "         zip_code addr_state emp_length  policy_code loan_status  \n",
       "22308526    103xx         NY   < 1 year          0.0           N  \n",
       "5727821     302xx         GA   < 1 year          0.0           N  \n",
       "23188969    408xx         KY   < 1 year          0.0           N  \n",
       "20699641    018xx         MA   < 1 year          0.0           N  \n",
       "27521677    618xx         IL   < 1 year          0.0           N  \n",
       "...           ...        ...        ...          ...         ...  \n",
       "14387031    275xx         NC   < 1 year          0.0           N  \n",
       "10524923    950xx         CA   < 1 year          0.0           N  \n",
       "21438591    282xx         NC   < 1 year          0.0           N  \n",
       "3583573     012xx         MA   < 1 year          0.0           N  \n",
       "8288488     559xx         MN   < 1 year          0.0           N  \n",
       "\n",
       "[1382311 rows x 10 columns]"
      ],
      "text/html": "<div>\n<style scoped>\n    .dataframe tbody tr th:only-of-type {\n        vertical-align: middle;\n    }\n\n    .dataframe tbody tr th {\n        vertical-align: top;\n    }\n\n    .dataframe thead th {\n        text-align: right;\n    }\n</style>\n<table border=\"1\" class=\"dataframe\">\n  <thead>\n    <tr style=\"text-align: right;\">\n      <th></th>\n      <th>loan_amnt</th>\n      <th>issue_d</th>\n      <th>title</th>\n      <th>risk_score</th>\n      <th>dti</th>\n      <th>zip_code</th>\n      <th>addr_state</th>\n      <th>emp_length</th>\n      <th>policy_code</th>\n      <th>loan_status</th>\n    </tr>\n  </thead>\n  <tbody>\n    <tr>\n      <th>22308526</th>\n      <td>30000.0</td>\n      <td>2015-04-06</td>\n      <td>debt_consolidation</td>\n      <td>628.17209</td>\n      <td>31.17</td>\n      <td>103xx</td>\n      <td>NY</td>\n      <td>&lt; 1 year</td>\n      <td>0.0</td>\n      <td>N</td>\n    </tr>\n    <tr>\n      <th>5727821</th>\n      <td>2000.0</td>\n      <td>2018-08-17</td>\n      <td>Moving and relocation</td>\n      <td>628.17209</td>\n      <td>13.28</td>\n      <td>302xx</td>\n      <td>GA</td>\n      <td>&lt; 1 year</td>\n      <td>0.0</td>\n      <td>N</td>\n    </tr>\n    <tr>\n      <th>23188969</th>\n      <td>10000.0</td>\n      <td>2015-07-28</td>\n      <td>other</td>\n      <td>628.17209</td>\n      <td>27</td>\n      <td>408xx</td>\n      <td>KY</td>\n      <td>&lt; 1 year</td>\n      <td>0.0</td>\n      <td>N</td>\n    </tr>\n    <tr>\n      <th>20699641</th>\n      <td>5000.0</td>\n      <td>2017-11-14</td>\n      <td>Home buying</td>\n      <td>684.00000</td>\n      <td>12</td>\n      <td>018xx</td>\n      <td>MA</td>\n      <td>&lt; 1 year</td>\n      <td>0.0</td>\n      <td>N</td>\n    </tr>\n    <tr>\n      <th>27521677</th>\n      <td>10000.0</td>\n      <td>2016-12-21</td>\n      <td>Debt consolidation</td>\n      <td>552.00000</td>\n      <td>71.41</td>\n      <td>618xx</td>\n      <td>IL</td>\n      <td>&lt; 1 year</td>\n      <td>0.0</td>\n      <td>N</td>\n    </tr>\n    <tr>\n      <th>...</th>\n      <td>...</td>\n      <td>...</td>\n      <td>...</td>\n      <td>...</td>\n      <td>...</td>\n      <td>...</td>\n      <td>...</td>\n      <td>...</td>\n      <td>...</td>\n      <td>...</td>\n    </tr>\n    <tr>\n      <th>14387031</th>\n      <td>3000.0</td>\n      <td>2016-03-13</td>\n      <td>car</td>\n      <td>628.17209</td>\n      <td>-1</td>\n      <td>275xx</td>\n      <td>NC</td>\n      <td>&lt; 1 year</td>\n      <td>0.0</td>\n      <td>N</td>\n    </tr>\n    <tr>\n      <th>10524923</th>\n      <td>10000.0</td>\n      <td>2018-02-09</td>\n      <td>Debt consolidation</td>\n      <td>628.17209</td>\n      <td>28.64</td>\n      <td>950xx</td>\n      <td>CA</td>\n      <td>&lt; 1 year</td>\n      <td>0.0</td>\n      <td>N</td>\n    </tr>\n    <tr>\n      <th>21438591</th>\n      <td>8000.0</td>\n      <td>2017-12-15</td>\n      <td>Other</td>\n      <td>744.00000</td>\n      <td>3.38</td>\n      <td>282xx</td>\n      <td>NC</td>\n      <td>&lt; 1 year</td>\n      <td>0.0</td>\n      <td>N</td>\n    </tr>\n    <tr>\n      <th>3583573</th>\n      <td>18000.0</td>\n      <td>2017-02-06</td>\n      <td>Debt consolidation</td>\n      <td>613.00000</td>\n      <td>64.96</td>\n      <td>012xx</td>\n      <td>MA</td>\n      <td>&lt; 1 year</td>\n      <td>0.0</td>\n      <td>N</td>\n    </tr>\n    <tr>\n      <th>8288488</th>\n      <td>30000.0</td>\n      <td>2014-05-15</td>\n      <td>debt_consolidation</td>\n      <td>676.00000</td>\n      <td>25.68</td>\n      <td>559xx</td>\n      <td>MN</td>\n      <td>&lt; 1 year</td>\n      <td>0.0</td>\n      <td>N</td>\n    </tr>\n  </tbody>\n</table>\n<p>1382311 rows × 10 columns</p>\n</div>"
     },
     "metadata": {},
     "execution_count": 38
    }
   ],
   "source": [
    "d2_rejected"
   ]
  },
  {
   "source": [
    "## Data Combining"
   ],
   "cell_type": "markdown",
   "metadata": {}
  },
  {
   "cell_type": "code",
   "execution_count": 39,
   "metadata": {},
   "outputs": [],
   "source": [
    "df_combined = pd.concat([d1_accepted, d2_rejected], axis=0)"
   ]
  },
  {
   "cell_type": "code",
   "execution_count": 40,
   "metadata": {},
   "outputs": [],
   "source": [
    "df_combined.drop(['zip_code'],axis=1,inplace=True)\n",
    "df_combined.drop(['title'],axis=1,inplace=True)\n",
    "df_combined.drop(['issue_d'],axis=1,inplace=True)"
   ]
  },
  {
   "cell_type": "code",
   "execution_count": 41,
   "metadata": {},
   "outputs": [
    {
     "output_type": "execute_result",
     "data": {
      "text/plain": [
       "         loan_amnt addr_state emp_length  policy_code    dti  risk_score  \\\n",
       "1211762    16775.0         IN    7 years          1.0  13.94       692.0   \n",
       "1487372    20000.0         OR    8 years          1.0  12.06       682.0   \n",
       "1111707    28000.0         OH  10+ years          1.0  26.17       682.0   \n",
       "213395     10950.0         CA    8 years          1.0  21.08       662.0   \n",
       "1633375     7000.0         VA    4 years          1.0   7.26       762.0   \n",
       "\n",
       "        loan_status  \n",
       "1211762           Y  \n",
       "1487372           Y  \n",
       "1111707           N  \n",
       "213395            Y  \n",
       "1633375           Y  "
      ],
      "text/html": "<div>\n<style scoped>\n    .dataframe tbody tr th:only-of-type {\n        vertical-align: middle;\n    }\n\n    .dataframe tbody tr th {\n        vertical-align: top;\n    }\n\n    .dataframe thead th {\n        text-align: right;\n    }\n</style>\n<table border=\"1\" class=\"dataframe\">\n  <thead>\n    <tr style=\"text-align: right;\">\n      <th></th>\n      <th>loan_amnt</th>\n      <th>addr_state</th>\n      <th>emp_length</th>\n      <th>policy_code</th>\n      <th>dti</th>\n      <th>risk_score</th>\n      <th>loan_status</th>\n    </tr>\n  </thead>\n  <tbody>\n    <tr>\n      <th>1211762</th>\n      <td>16775.0</td>\n      <td>IN</td>\n      <td>7 years</td>\n      <td>1.0</td>\n      <td>13.94</td>\n      <td>692.0</td>\n      <td>Y</td>\n    </tr>\n    <tr>\n      <th>1487372</th>\n      <td>20000.0</td>\n      <td>OR</td>\n      <td>8 years</td>\n      <td>1.0</td>\n      <td>12.06</td>\n      <td>682.0</td>\n      <td>Y</td>\n    </tr>\n    <tr>\n      <th>1111707</th>\n      <td>28000.0</td>\n      <td>OH</td>\n      <td>10+ years</td>\n      <td>1.0</td>\n      <td>26.17</td>\n      <td>682.0</td>\n      <td>N</td>\n    </tr>\n    <tr>\n      <th>213395</th>\n      <td>10950.0</td>\n      <td>CA</td>\n      <td>8 years</td>\n      <td>1.0</td>\n      <td>21.08</td>\n      <td>662.0</td>\n      <td>Y</td>\n    </tr>\n    <tr>\n      <th>1633375</th>\n      <td>7000.0</td>\n      <td>VA</td>\n      <td>4 years</td>\n      <td>1.0</td>\n      <td>7.26</td>\n      <td>762.0</td>\n      <td>Y</td>\n    </tr>\n  </tbody>\n</table>\n</div>"
     },
     "metadata": {},
     "execution_count": 41
    }
   ],
   "source": [
    "df_combined.head()"
   ]
  },
  {
   "cell_type": "code",
   "execution_count": 42,
   "metadata": {},
   "outputs": [
    {
     "output_type": "execute_result",
     "data": {
      "text/plain": [
       "(2500129, 7)"
      ]
     },
     "metadata": {},
     "execution_count": 42
    }
   ],
   "source": [
    "df_combined.shape"
   ]
  },
  {
   "cell_type": "code",
   "execution_count": 43,
   "metadata": {},
   "outputs": [],
   "source": [
    "df_combined.to_csv(\"combined_dataset.csv\", index=False)"
   ]
  },
  {
   "source": [
    "## Loading the combined dataset file"
   ],
   "cell_type": "markdown",
   "metadata": {}
  },
  {
   "cell_type": "code",
   "execution_count": 4,
   "metadata": {},
   "outputs": [],
   "source": [
    "df = pd.read_csv('combined_dataset.csv')"
   ]
  },
  {
   "cell_type": "code",
   "execution_count": 5,
   "metadata": {},
   "outputs": [],
   "source": [
    "df = df.sample(frac=1).reset_index(drop=True)"
   ]
  },
  {
   "cell_type": "code",
   "execution_count": 6,
   "metadata": {},
   "outputs": [
    {
     "output_type": "execute_result",
     "data": {
      "text/plain": [
       "   loan_amnt addr_state emp_length  policy_code    dti  risk_score loan_status\n",
       "0    20000.0         AR    5 years          1.0  20.06   722.00000           Y\n",
       "1     5000.0         NJ  10+ years          0.0  28.80   628.17209           N\n",
       "2    26600.0         WA    4 years          1.0   1.73   767.00000           Y\n",
       "3     5000.0         CA   < 1 year          0.0  15.55   654.00000           N\n",
       "4     1000.0         TX     1 year          0.0  10.58   572.00000           N"
      ],
      "text/html": "<div>\n<style scoped>\n    .dataframe tbody tr th:only-of-type {\n        vertical-align: middle;\n    }\n\n    .dataframe tbody tr th {\n        vertical-align: top;\n    }\n\n    .dataframe thead th {\n        text-align: right;\n    }\n</style>\n<table border=\"1\" class=\"dataframe\">\n  <thead>\n    <tr style=\"text-align: right;\">\n      <th></th>\n      <th>loan_amnt</th>\n      <th>addr_state</th>\n      <th>emp_length</th>\n      <th>policy_code</th>\n      <th>dti</th>\n      <th>risk_score</th>\n      <th>loan_status</th>\n    </tr>\n  </thead>\n  <tbody>\n    <tr>\n      <th>0</th>\n      <td>20000.0</td>\n      <td>AR</td>\n      <td>5 years</td>\n      <td>1.0</td>\n      <td>20.06</td>\n      <td>722.00000</td>\n      <td>Y</td>\n    </tr>\n    <tr>\n      <th>1</th>\n      <td>5000.0</td>\n      <td>NJ</td>\n      <td>10+ years</td>\n      <td>0.0</td>\n      <td>28.80</td>\n      <td>628.17209</td>\n      <td>N</td>\n    </tr>\n    <tr>\n      <th>2</th>\n      <td>26600.0</td>\n      <td>WA</td>\n      <td>4 years</td>\n      <td>1.0</td>\n      <td>1.73</td>\n      <td>767.00000</td>\n      <td>Y</td>\n    </tr>\n    <tr>\n      <th>3</th>\n      <td>5000.0</td>\n      <td>CA</td>\n      <td>&lt; 1 year</td>\n      <td>0.0</td>\n      <td>15.55</td>\n      <td>654.00000</td>\n      <td>N</td>\n    </tr>\n    <tr>\n      <th>4</th>\n      <td>1000.0</td>\n      <td>TX</td>\n      <td>1 year</td>\n      <td>0.0</td>\n      <td>10.58</td>\n      <td>572.00000</td>\n      <td>N</td>\n    </tr>\n  </tbody>\n</table>\n</div>"
     },
     "metadata": {},
     "execution_count": 6
    }
   ],
   "source": [
    "df.head()"
   ]
  },
  {
   "source": [
    "## Data formatting and preprocessing"
   ],
   "cell_type": "markdown",
   "metadata": {}
  },
  {
   "cell_type": "code",
   "execution_count": 7,
   "metadata": {},
   "outputs": [
    {
     "output_type": "execute_result",
     "data": {
      "text/plain": [
       "array(['5 years', '10+ years', '4 years', '< 1 year', '1 year', '0',\n",
       "       '7 years', '9 years', '3 years', '2 years', '6 years', '8 years'],\n",
       "      dtype=object)"
      ]
     },
     "metadata": {},
     "execution_count": 7
    }
   ],
   "source": [
    "df['emp_length'].unique()"
   ]
  },
  {
   "cell_type": "code",
   "execution_count": 8,
   "metadata": {},
   "outputs": [
    {
     "output_type": "execute_result",
     "data": {
      "text/plain": [
       "   loan_amnt addr_state  emp_length  policy_code    dti  risk_score  \\\n",
       "0    20000.0         AR           5          1.0  20.06   722.00000   \n",
       "1     5000.0         NJ          10          0.0  28.80   628.17209   \n",
       "2    26600.0         WA           4          1.0   1.73   767.00000   \n",
       "3     5000.0         CA           0          0.0  15.55   654.00000   \n",
       "4     1000.0         TX           1          0.0  10.58   572.00000   \n",
       "\n",
       "  loan_status  \n",
       "0           Y  \n",
       "1           N  \n",
       "2           Y  \n",
       "3           N  \n",
       "4           N  "
      ],
      "text/html": "<div>\n<style scoped>\n    .dataframe tbody tr th:only-of-type {\n        vertical-align: middle;\n    }\n\n    .dataframe tbody tr th {\n        vertical-align: top;\n    }\n\n    .dataframe thead th {\n        text-align: right;\n    }\n</style>\n<table border=\"1\" class=\"dataframe\">\n  <thead>\n    <tr style=\"text-align: right;\">\n      <th></th>\n      <th>loan_amnt</th>\n      <th>addr_state</th>\n      <th>emp_length</th>\n      <th>policy_code</th>\n      <th>dti</th>\n      <th>risk_score</th>\n      <th>loan_status</th>\n    </tr>\n  </thead>\n  <tbody>\n    <tr>\n      <th>0</th>\n      <td>20000.0</td>\n      <td>AR</td>\n      <td>5</td>\n      <td>1.0</td>\n      <td>20.06</td>\n      <td>722.00000</td>\n      <td>Y</td>\n    </tr>\n    <tr>\n      <th>1</th>\n      <td>5000.0</td>\n      <td>NJ</td>\n      <td>10</td>\n      <td>0.0</td>\n      <td>28.80</td>\n      <td>628.17209</td>\n      <td>N</td>\n    </tr>\n    <tr>\n      <th>2</th>\n      <td>26600.0</td>\n      <td>WA</td>\n      <td>4</td>\n      <td>1.0</td>\n      <td>1.73</td>\n      <td>767.00000</td>\n      <td>Y</td>\n    </tr>\n    <tr>\n      <th>3</th>\n      <td>5000.0</td>\n      <td>CA</td>\n      <td>0</td>\n      <td>0.0</td>\n      <td>15.55</td>\n      <td>654.00000</td>\n      <td>N</td>\n    </tr>\n    <tr>\n      <th>4</th>\n      <td>1000.0</td>\n      <td>TX</td>\n      <td>1</td>\n      <td>0.0</td>\n      <td>10.58</td>\n      <td>572.00000</td>\n      <td>N</td>\n    </tr>\n  </tbody>\n</table>\n</div>"
     },
     "metadata": {},
     "execution_count": 8
    }
   ],
   "source": [
    "mapp = {'0':0,\n",
    "    '< 1 year':0,\n",
    "                      '1 year':1,\n",
    "                     '2 years':2,\n",
    "                     '3 years':3,\n",
    "                     '4 years':4,\n",
    "                     '5 years':5,\n",
    "                     '6 years':6,\n",
    "                     '7 years':7,\n",
    "                     '8 years':8,\n",
    "                     '9 years':9,\n",
    "                     '10+ years':10}\n",
    "df['emp_length']=df['emp_length'].map(mapp)\n",
    "df.head()"
   ]
  },
  {
   "cell_type": "code",
   "execution_count": 9,
   "metadata": {},
   "outputs": [],
   "source": [
    "from sklearn.preprocessing import LabelEncoder\n",
    "label_enc= LabelEncoder()"
   ]
  },
  {
   "cell_type": "code",
   "execution_count": 10,
   "metadata": {},
   "outputs": [
    {
     "output_type": "execute_result",
     "data": {
      "text/plain": [
       "0           2\n",
       "1          31\n",
       "2          47\n",
       "3           4\n",
       "4          43\n",
       "           ..\n",
       "2500124    37\n",
       "2500125    38\n",
       "2500126     1\n",
       "2500127     4\n",
       "2500128    24\n",
       "Name: addr_state, Length: 2500129, dtype: int32"
      ]
     },
     "metadata": {},
     "execution_count": 10
    }
   ],
   "source": [
    "df['addr_state']=label_enc.fit_transform(df['addr_state'].astype(str))\n",
    "df['addr_state']"
   ]
  },
  {
   "cell_type": "code",
   "execution_count": 11,
   "metadata": {},
   "outputs": [
    {
     "output_type": "execute_result",
     "data": {
      "text/plain": [
       "   loan_amnt  addr_state  emp_length  policy_code    dti  risk_score  \\\n",
       "0    20000.0           2           5          1.0  20.06   722.00000   \n",
       "1     5000.0          31          10          0.0  28.80   628.17209   \n",
       "2    26600.0          47           4          1.0   1.73   767.00000   \n",
       "3     5000.0           4           0          0.0  15.55   654.00000   \n",
       "4     1000.0          43           1          0.0  10.58   572.00000   \n",
       "\n",
       "  loan_status  \n",
       "0           Y  \n",
       "1           N  \n",
       "2           Y  \n",
       "3           N  \n",
       "4           N  "
      ],
      "text/html": "<div>\n<style scoped>\n    .dataframe tbody tr th:only-of-type {\n        vertical-align: middle;\n    }\n\n    .dataframe tbody tr th {\n        vertical-align: top;\n    }\n\n    .dataframe thead th {\n        text-align: right;\n    }\n</style>\n<table border=\"1\" class=\"dataframe\">\n  <thead>\n    <tr style=\"text-align: right;\">\n      <th></th>\n      <th>loan_amnt</th>\n      <th>addr_state</th>\n      <th>emp_length</th>\n      <th>policy_code</th>\n      <th>dti</th>\n      <th>risk_score</th>\n      <th>loan_status</th>\n    </tr>\n  </thead>\n  <tbody>\n    <tr>\n      <th>0</th>\n      <td>20000.0</td>\n      <td>2</td>\n      <td>5</td>\n      <td>1.0</td>\n      <td>20.06</td>\n      <td>722.00000</td>\n      <td>Y</td>\n    </tr>\n    <tr>\n      <th>1</th>\n      <td>5000.0</td>\n      <td>31</td>\n      <td>10</td>\n      <td>0.0</td>\n      <td>28.80</td>\n      <td>628.17209</td>\n      <td>N</td>\n    </tr>\n    <tr>\n      <th>2</th>\n      <td>26600.0</td>\n      <td>47</td>\n      <td>4</td>\n      <td>1.0</td>\n      <td>1.73</td>\n      <td>767.00000</td>\n      <td>Y</td>\n    </tr>\n    <tr>\n      <th>3</th>\n      <td>5000.0</td>\n      <td>4</td>\n      <td>0</td>\n      <td>0.0</td>\n      <td>15.55</td>\n      <td>654.00000</td>\n      <td>N</td>\n    </tr>\n    <tr>\n      <th>4</th>\n      <td>1000.0</td>\n      <td>43</td>\n      <td>1</td>\n      <td>0.0</td>\n      <td>10.58</td>\n      <td>572.00000</td>\n      <td>N</td>\n    </tr>\n  </tbody>\n</table>\n</div>"
     },
     "metadata": {},
     "execution_count": 11
    }
   ],
   "source": [
    "df.head()"
   ]
  },
  {
   "cell_type": "code",
   "execution_count": 12,
   "metadata": {},
   "outputs": [],
   "source": [
    "labelencoder=LabelEncoder()\n",
    "df['loan_status']=labelencoder.fit_transform(df['loan_status'])"
   ]
  },
  {
   "cell_type": "code",
   "execution_count": 13,
   "metadata": {},
   "outputs": [
    {
     "output_type": "execute_result",
     "data": {
      "text/plain": [
       "   loan_amnt  addr_state  emp_length  policy_code    dti  risk_score  \\\n",
       "0    20000.0           2           5          1.0  20.06   722.00000   \n",
       "1     5000.0          31          10          0.0  28.80   628.17209   \n",
       "2    26600.0          47           4          1.0   1.73   767.00000   \n",
       "3     5000.0           4           0          0.0  15.55   654.00000   \n",
       "4     1000.0          43           1          0.0  10.58   572.00000   \n",
       "\n",
       "   loan_status  \n",
       "0            1  \n",
       "1            0  \n",
       "2            1  \n",
       "3            0  \n",
       "4            0  "
      ],
      "text/html": "<div>\n<style scoped>\n    .dataframe tbody tr th:only-of-type {\n        vertical-align: middle;\n    }\n\n    .dataframe tbody tr th {\n        vertical-align: top;\n    }\n\n    .dataframe thead th {\n        text-align: right;\n    }\n</style>\n<table border=\"1\" class=\"dataframe\">\n  <thead>\n    <tr style=\"text-align: right;\">\n      <th></th>\n      <th>loan_amnt</th>\n      <th>addr_state</th>\n      <th>emp_length</th>\n      <th>policy_code</th>\n      <th>dti</th>\n      <th>risk_score</th>\n      <th>loan_status</th>\n    </tr>\n  </thead>\n  <tbody>\n    <tr>\n      <th>0</th>\n      <td>20000.0</td>\n      <td>2</td>\n      <td>5</td>\n      <td>1.0</td>\n      <td>20.06</td>\n      <td>722.00000</td>\n      <td>1</td>\n    </tr>\n    <tr>\n      <th>1</th>\n      <td>5000.0</td>\n      <td>31</td>\n      <td>10</td>\n      <td>0.0</td>\n      <td>28.80</td>\n      <td>628.17209</td>\n      <td>0</td>\n    </tr>\n    <tr>\n      <th>2</th>\n      <td>26600.0</td>\n      <td>47</td>\n      <td>4</td>\n      <td>1.0</td>\n      <td>1.73</td>\n      <td>767.00000</td>\n      <td>1</td>\n    </tr>\n    <tr>\n      <th>3</th>\n      <td>5000.0</td>\n      <td>4</td>\n      <td>0</td>\n      <td>0.0</td>\n      <td>15.55</td>\n      <td>654.00000</td>\n      <td>0</td>\n    </tr>\n    <tr>\n      <th>4</th>\n      <td>1000.0</td>\n      <td>43</td>\n      <td>1</td>\n      <td>0.0</td>\n      <td>10.58</td>\n      <td>572.00000</td>\n      <td>0</td>\n    </tr>\n  </tbody>\n</table>\n</div>"
     },
     "metadata": {},
     "execution_count": 13
    }
   ],
   "source": [
    "df.head()"
   ]
  },
  {
   "cell_type": "code",
   "execution_count": 14,
   "metadata": {},
   "outputs": [
    {
     "output_type": "execute_result",
     "data": {
      "text/plain": [
       "loan_amnt      0\n",
       "addr_state     0\n",
       "emp_length     0\n",
       "policy_code    0\n",
       "dti            0\n",
       "risk_score     0\n",
       "loan_status    0\n",
       "dtype: int64"
      ]
     },
     "metadata": {},
     "execution_count": 14
    }
   ],
   "source": [
    "df.isnull().sum()"
   ]
  },
  {
   "cell_type": "code",
   "execution_count": 15,
   "metadata": {},
   "outputs": [],
   "source": [
    "y = df['loan_status']\n",
    "x = df.drop(['loan_status'],axis=1)"
   ]
  },
  {
   "source": [
    "# Splitting data into training and testing set"
   ],
   "cell_type": "markdown",
   "metadata": {}
  },
  {
   "cell_type": "code",
   "execution_count": 16,
   "metadata": {},
   "outputs": [],
   "source": [
    "from sklearn.model_selection import train_test_split\n",
    "x_train, x_test, y_train, y_test = train_test_split(x,y,test_size=1/4,random_state=0)"
   ]
  },
  {
   "cell_type": "code",
   "execution_count": 17,
   "metadata": {},
   "outputs": [
    {
     "output_type": "execute_result",
     "data": {
      "text/plain": [
       "loan_amnt      0\n",
       "addr_state     0\n",
       "emp_length     0\n",
       "policy_code    0\n",
       "dti            0\n",
       "risk_score     0\n",
       "dtype: int64"
      ]
     },
     "metadata": {},
     "execution_count": 17
    }
   ],
   "source": [
    "x.isnull().sum()"
   ]
  },
  {
   "source": [
    "# Model Training and testing"
   ],
   "cell_type": "markdown",
   "metadata": {}
  },
  {
   "cell_type": "code",
   "execution_count": 18,
   "metadata": {},
   "outputs": [
    {
     "output_type": "execute_result",
     "data": {
      "text/plain": [
       "DecisionTreeClassifier(min_samples_leaf=5, random_state=100)"
      ]
     },
     "metadata": {},
     "execution_count": 18
    }
   ],
   "source": [
    "from sklearn.tree import DecisionTreeClassifier\n",
    "clf_gini = DecisionTreeClassifier(criterion = \"gini\",\n",
    "            random_state = 100, min_samples_leaf=5)\n",
    "clf_gini.fit(x_train, y_train)"
   ]
  },
  {
   "cell_type": "code",
   "execution_count": 19,
   "metadata": {},
   "outputs": [
    {
     "output_type": "execute_result",
     "data": {
      "text/plain": [
       "0.9215033446234039"
      ]
     },
     "metadata": {},
     "execution_count": 19
    }
   ],
   "source": [
    "clf_gini.score(x_test,y_test)"
   ]
  },
  {
   "cell_type": "code",
   "execution_count": 20,
   "metadata": {},
   "outputs": [
    {
     "output_type": "execute_result",
     "data": {
      "text/plain": [
       "RandomForestClassifier(criterion='entropy', random_state=0)"
      ]
     },
     "metadata": {},
     "execution_count": 20
    }
   ],
   "source": [
    "from sklearn.ensemble import RandomForestClassifier\n",
    "dfor = RandomForestClassifier(n_estimators = 100, criterion = 'entropy', random_state = 0)\n",
    "dfor.fit(x_train,y_train)"
   ]
  },
  {
   "cell_type": "code",
   "execution_count": 21,
   "metadata": {},
   "outputs": [
    {
     "output_type": "execute_result",
     "data": {
      "text/plain": [
       "0.9431742004022188"
      ]
     },
     "metadata": {},
     "execution_count": 21
    }
   ],
   "source": [
    "dfor.score(x_test,y_test)"
   ]
  },
  {
   "cell_type": "code",
   "execution_count": null,
   "metadata": {},
   "outputs": [],
   "source": []
  }
 ]
}